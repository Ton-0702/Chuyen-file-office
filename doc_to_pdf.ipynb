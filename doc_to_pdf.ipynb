!pip install docx2pdf

import re
import os
import win32com.client as win32
from win32com.client import constants
from win32com import client
import pandas as pd
import numpy as np
from docx2pdf import convert

path= r'D:\NG_2020'
list_prv=[]
for folder_name in (next(os.walk(path))[1]):
    list_prv.append(folder_name)
print(list_prv)

for file_path in list_prv:
    folder = r'D:/NG_2020/'+file_path
    for file in os.listdir(folder):
        if file.endswith('.docx'):
            file2 = file[:-4]
            print(len(file2))
            path_doc_file = 'D:\\NG_2020\\'+file_path+'\\'+file
            print(path_doc_file)
            path_new ='D:\\NG_2020\\'+file_path+'\\'+file2+'pdf'
            print(path_new)
            convert(path_doc_file, path_new)
